{
 "cells": [
  {
   "cell_type": "code",
   "execution_count": 1,
   "metadata": {},
   "outputs": [],
   "source": [
    "import numpy as np"
   ]
  },
  {
   "cell_type": "code",
   "execution_count": 2,
   "metadata": {},
   "outputs": [],
   "source": [
    "__TOL__ = \"type\""
   ]
  },
  {
   "cell_type": "code",
   "execution_count": 3,
   "metadata": {},
   "outputs": [],
   "source": [
    "class Invert:\n",
    "    def __init__(self, mat):\n",
    "        self.my_matrix = mat\n",
    "        \n",
    "    def invert(self):\n",
    "        return np.linalg.inv(self.my_matrix)"
   ]
  },
  {
   "cell_type": "code",
   "execution_count": 4,
   "metadata": {},
   "outputs": [],
   "source": [
    "class Matrix(Invert):\n",
    "    \"Do something on a Matrix\"\n",
    "    def __init__(self, mat = None):\n",
    "        self.my_matrix = mat\n",
    "        self.egivals = np.zeros(np.shape(self.my_matrix))\n",
    "        self.eigvecs = np.zeros(np.shape(self.my_matrix[0,:]))\n",
    "        self.positive = False\n",
    "        self.transpose = np.zeros(np.shape(self.my_matrix))\n",
    "        self.symmetric = np.zeros(np.shape(self.my_matrix))\n",
    "        \n",
    "    def diag(self):\n",
    "        self.eigvals, self.eigvecs = np.linalg.eig(self.my_matrix)\n",
    "        return self.eigvals, self.eigvecs\n",
    "    \n",
    "    def check_positive_definite(self):\n",
    "        if np.all(self.diag()[0]>0.):\n",
    "            self.positive = True\n",
    "        return self.positive\n",
    "    \n",
    "    def symmetrize(self):\n",
    "        self.symmetric = 0.5 * (self.my_matrix + self.my_matrix.T)\n",
    "        return self.symmetric\n",
    "    \n",
    "    def IO(self):\n",
    "        print(\"\"\"Initial matrix = %f\"\"\" % (self.my_matrix))\n",
    "        \n",
    "    def force_positive_definite(self):\n",
    "        New_matrix = np.zeros(np.shape(self.my_matrix))\n",
    "        w, pols = self.diag()\n",
    "        \n",
    "        New_matrix = np.einsum(\"i, ki, li\", w**2, pols, pols)\n",
    "        \n",
    "        return New_matrix\n",
    "\n",
    "    def inverse_matrix(self):\n",
    "        return Invert(self.my_matrix).invert()"
   ]
  },
  {
   "cell_type": "code",
   "execution_count": 5,
   "metadata": {},
   "outputs": [],
   "source": [
    "A = np.array([[1,2],[3,4]])"
   ]
  },
  {
   "cell_type": "code",
   "execution_count": 6,
   "metadata": {},
   "outputs": [],
   "source": [
    "f = Matrix(A)"
   ]
  },
  {
   "cell_type": "code",
   "execution_count": 8,
   "metadata": {},
   "outputs": [
    {
     "data": {
      "text/plain": [
       "array([[1. , 2.5],\n",
       "       [2.5, 4. ]])"
      ]
     },
     "execution_count": 8,
     "metadata": {},
     "output_type": "execute_result"
    }
   ],
   "source": [
    "f.symmetrize()"
   ]
  },
  {
   "cell_type": "code",
   "execution_count": 9,
   "metadata": {},
   "outputs": [],
   "source": [
    "Nat = 10\n",
    "Mass = np.linspace(1,10,Nat)"
   ]
  },
  {
   "cell_type": "code",
   "execution_count": 10,
   "metadata": {},
   "outputs": [],
   "source": [
    "# for a in range(3 * Nat):\n",
    "#     # a//3 = atomic index\n",
    "#     # a%3 = coordinate index\n",
    "#     # a = atomic + coordinate index\n",
    "#     print(\"{%d} atom={%d} r={%d}\" %(a, a//3, a%3))"
   ]
  },
  {
   "cell_type": "code",
   "execution_count": 11,
   "metadata": {},
   "outputs": [
    {
     "data": {
      "text/plain": [
       "__main__.Matrix"
      ]
     },
     "execution_count": 11,
     "metadata": {},
     "output_type": "execute_result"
    }
   ],
   "source": [
    "type(f)"
   ]
  },
  {
   "cell_type": "code",
   "execution_count": null,
   "metadata": {},
   "outputs": [],
   "source": []
  }
 ],
 "metadata": {
  "kernelspec": {
   "display_name": "Python 3",
   "language": "python",
   "name": "python3"
  },
  "language_info": {
   "codemirror_mode": {
    "name": "ipython",
    "version": 3
   },
   "file_extension": ".py",
   "mimetype": "text/x-python",
   "name": "python",
   "nbconvert_exporter": "python",
   "pygments_lexer": "ipython3",
   "version": "3.7.4"
  }
 },
 "nbformat": 4,
 "nbformat_minor": 4
}
